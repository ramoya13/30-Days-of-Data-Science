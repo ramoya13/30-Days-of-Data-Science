{
 "cells": [
  {
   "cell_type": "markdown",
   "metadata": {},
   "source": [
    "# Output"
   ]
  },
  {
   "cell_type": "code",
   "execution_count": 1,
   "metadata": {},
   "outputs": [
    {
     "name": "stdout",
     "output_type": "stream",
     "text": [
      "Hello, World!\n"
     ]
    }
   ],
   "source": [
    "print(\"Hello, World!\") # print function"
   ]
  },
  {
   "cell_type": "markdown",
   "metadata": {},
   "source": [
    "# Input"
   ]
  },
  {
   "cell_type": "code",
   "execution_count": 2,
   "metadata": {},
   "outputs": [],
   "source": [
    "name = input('Please enter your name:')\n",
    "print(name)"
   ]
  },
  {
   "cell_type": "markdown",
   "metadata": {},
   "source": [
    "# Data Types\n",
    "\n",
    "## numbers\n",
    "\n",
    "-int\n",
    "-floats\n",
    "-complex numbers\n",
    "\n",
    "## strings\n",
    "\n",
    "-collection of characters\n",
    "\n",
    "## booleans\n",
    "\n",
    "-True\n",
    "-False"
   ]
  },
  {
   "cell_type": "markdown",
   "metadata": {},
   "source": [
    "# Variables\n",
    "\n",
    "/*must start with letter or underscore*/\n",
    "/*can only contain alphanumeric values*/\n",
    "/*case sensitive*/\n"
   ]
  },
  {
   "cell_type": "code",
   "execution_count": null,
   "metadata": {},
   "outputs": [],
   "source": [
    "name = 'Kwaku Anansi' "
   ]
  },
  {
   "cell_type": "markdown",
   "metadata": {},
   "source": [
    "# Data Structures\n",
    "\n",
    "## Lists\n",
    "\n",
    "/*created using square brackets*/\n",
    "\n",
    "## Dictionary\n",
    "\n",
    "/*Pairs and keys*/\n",
    "\n",
    "## Tuple\n",
    "\n",
    "## Set\n",
    "\n",
    "## Assignment\n",
    "=\n",
    "\n",
    "## Arithmetic Operators\n",
    "/ * + -\n",
    "\n",
    "## Comparison Operators\n",
    ">, <, >=, <=, ==\n",
    "\n",
    "## Conditional Statements\n",
    "\n",
    "-if\n",
    "-elif\n",
    "-else\n",
    "\n",
    "## Loops\n",
    "\n",
    "-while loop\n",
    "\n",
    "-for loop\n",
    "\n",
    "# Functions\n",
    "\n",
    "# Modules\n",
    "\n",
    "/*contain preset codes so you dont have to rewrite code*/\n",
    "\n",
    "\n"
   ]
  },
  {
   "cell_type": "code",
   "execution_count": null,
   "metadata": {},
   "outputs": [],
   "source": [
    "# lists\n",
    "\n",
    "profile = ['Kwaku Anansi', 18, True]\n",
    "print(profile[0]) # Acceing data in a list"
   ]
  },
  {
   "cell_type": "code",
   "execution_count": null,
   "metadata": {},
   "outputs": [],
   "source": [
    "# dictionary\n",
    "\n",
    "profile_dic = {'name': 'Kwaku Anansi', 'age': 1000, 'god': True}\n",
    "print(profile_dic)\n",
    "print(profile_dic['name'])"
   ]
  },
  {
   "cell_type": "code",
   "execution_count": null,
   "metadata": {},
   "outputs": [],
   "source": [
    "# tuple\n",
    "\n",
    "profile_tuple = ('Kwaku Anansi', 1000, True)\n",
    "print(profile_tuple)"
   ]
  },
  {
   "cell_type": "code",
   "execution_count": null,
   "metadata": {},
   "outputs": [],
   "source": [
    "# set\n",
    "\n",
    "profile_Set = {'Kwaku Anansi', 1000, True}\n",
    "print(profile_set)"
   ]
  },
  {
   "cell_type": "markdown",
   "metadata": {},
   "source": []
  }
 ],
 "metadata": {
  "kernelspec": {
   "display_name": "Python 3.9.13 64-bit (microsoft store)",
   "language": "python",
   "name": "python3"
  },
  "language_info": {
   "codemirror_mode": {
    "name": "ipython",
    "version": 3
   },
   "file_extension": ".py",
   "mimetype": "text/x-python",
   "name": "python",
   "nbconvert_exporter": "python",
   "pygments_lexer": "ipython3",
   "version": "3.9.13"
  },
  "orig_nbformat": 4,
  "vscode": {
   "interpreter": {
    "hash": "9a78cf8b4ddb887073044078984fdf2c874f7f0aac3b719c0619670e32c9baef"
   }
  }
 },
 "nbformat": 4,
 "nbformat_minor": 2
}
