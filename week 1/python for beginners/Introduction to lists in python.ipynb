{
 "cells": [
  {
   "cell_type": "markdown",
   "metadata": {},
   "source": [
    "Create list"
   ]
  },
  {
   "cell_type": "code",
   "execution_count": 4,
   "metadata": {},
   "outputs": [],
   "source": [
    "planets = [\"Mercury\", \"Venus\", \"Earth\", \"Mars\", \"Jupiter\", \"Saturn\", \"Uranus\", \"Neptune\"]"
   ]
  },
  {
   "cell_type": "markdown",
   "metadata": {},
   "source": [
    "Access list items by an index"
   ]
  },
  {
   "cell_type": "code",
   "execution_count": 6,
   "metadata": {},
   "outputs": [
    {
     "name": "stdout",
     "output_type": "stream",
     "text": [
      "The first planet is Mercury\n",
      "The second planet is Venus\n",
      "The third planet is Earth\n"
     ]
    }
   ],
   "source": [
    "print(\"The first planet is\", planets[0])\n",
    "print(\"The second planet is\", planets[1])\n",
    "print(\"The third planet is\", planets[2])"
   ]
  },
  {
   "cell_type": "code",
   "execution_count": 9,
   "metadata": {},
   "outputs": [
    {
     "name": "stdout",
     "output_type": "stream",
     "text": [
      "Mars is also known as Red Planet\n"
     ]
    }
   ],
   "source": [
    "planets[3] = \"Red Planet\"\n",
    "print(\"Mars is also known as\", planets[3])"
   ]
  },
  {
   "cell_type": "markdown",
   "metadata": {},
   "source": [
    "Determine the length of a list"
   ]
  },
  {
   "cell_type": "code",
   "execution_count": 10,
   "metadata": {},
   "outputs": [
    {
     "name": "stdout",
     "output_type": "stream",
     "text": [
      "There are 8 planets in the solar system\n"
     ]
    }
   ],
   "source": [
    "number_of_planets =len(planets)\n",
    "print(\"There are\", number_of_planets, \"planets in the solar system\")"
   ]
  },
  {
   "cell_type": "markdown",
   "metadata": {},
   "source": [
    "Add Values to lists"
   ]
  },
  {
   "cell_type": "code",
   "execution_count": 13,
   "metadata": {},
   "outputs": [
    {
     "name": "stdout",
     "output_type": "stream",
     "text": [
      "There are actually 9 planets in the solar system\n"
     ]
    }
   ],
   "source": [
    "planets.append(\"Pluto\")\n",
    "number_of_planets = len(planets)\n",
    "print(\"There are actually\", number_of_planets, \"planets in the solar system\")"
   ]
  },
  {
   "cell_type": "markdown",
   "metadata": {},
   "source": [
    "Remove values from lists\n"
   ]
  },
  {
   "cell_type": "code",
   "execution_count": 15,
   "metadata": {},
   "outputs": [
    {
     "name": "stdout",
     "output_type": "stream",
     "text": [
      "No, there are definately 8 planets in the solar system\n"
     ]
    }
   ],
   "source": [
    "planets.pop() # Goodbye, Pluto\n",
    "number_of_planets = len(planets)\n",
    "print(\"No, there are definately\", number_of_planets, \"planets in the solar system\")"
   ]
  },
  {
   "cell_type": "markdown",
   "metadata": {},
   "source": [
    "use negative indexes"
   ]
  },
  {
   "cell_type": "code",
   "execution_count": 16,
   "metadata": {},
   "outputs": [
    {
     "name": "stdout",
     "output_type": "stream",
     "text": [
      "The first planet is Mercury\n"
     ]
    }
   ],
   "source": [
    "print(\"The first planet is\", planets[0])"
   ]
  },
  {
   "cell_type": "code",
   "execution_count": 18,
   "metadata": {},
   "outputs": [
    {
     "name": "stdout",
     "output_type": "stream",
     "text": [
      "The last planet is Neptune\n",
      "The penultimate planet is Uranus\n"
     ]
    }
   ],
   "source": [
    "print(\"The last planet is\", planets[-1])\n",
    "print(\"The penultimate planet is\", planets[-2])"
   ]
  },
  {
   "cell_type": "markdown",
   "metadata": {},
   "source": [
    "Find a value in a list"
   ]
  },
  {
   "cell_type": "code",
   "execution_count": 19,
   "metadata": {},
   "outputs": [
    {
     "name": "stdout",
     "output_type": "stream",
     "text": [
      "Jupiter is the 5 planet from the sun\n"
     ]
    }
   ],
   "source": [
    "jupiter_index = planets.index(\"Jupiter\")\n",
    "print(\"Jupiter is the\", jupiter_index + 1, \"planet from the sun\")"
   ]
  }
 ],
 "metadata": {
  "kernelspec": {
   "display_name": "Python 3.9.13 64-bit (microsoft store)",
   "language": "python",
   "name": "python3"
  },
  "language_info": {
   "codemirror_mode": {
    "name": "ipython",
    "version": 3
   },
   "file_extension": ".py",
   "mimetype": "text/x-python",
   "name": "python",
   "nbconvert_exporter": "python",
   "pygments_lexer": "ipython3",
   "version": "3.9.13"
  },
  "orig_nbformat": 4,
  "vscode": {
   "interpreter": {
    "hash": "9a78cf8b4ddb887073044078984fdf2c874f7f0aac3b719c0619670e32c9baef"
   }
  }
 },
 "nbformat": 4,
 "nbformat_minor": 2
}
