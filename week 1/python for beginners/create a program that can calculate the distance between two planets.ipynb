{
 "cells": [
  {
   "cell_type": "markdown",
   "metadata": {},
   "source": [
    "Create Variables to Store the distance"
   ]
  },
  {
   "cell_type": "code",
   "execution_count": null,
   "metadata": {},
   "outputs": [],
   "source": [
    "first_planet = 149597870\n",
    "second_planet = 778547200 "
   ]
  },
  {
   "cell_type": "markdown",
   "metadata": {},
   "source": [
    "Display the distance between two planets"
   ]
  },
  {
   "cell_type": "code",
   "execution_count": null,
   "metadata": {},
   "outputs": [],
   "source": [
    "distance_km = second_planet - first_planet\n",
    "print(distance_km)\n",
    "\n",
    "#convert to miles\n",
    "distance_mi = distance_km / 1.609344\n",
    "print(distance_mi)"
   ]
  }
 ],
 "metadata": {
  "kernelspec": {
   "display_name": "Python 3.9.13 64-bit (microsoft store)",
   "language": "python",
   "name": "python3"
  },
  "language_info": {
   "name": "python",
   "version": "3.9.13"
  },
  "orig_nbformat": 4,
  "vscode": {
   "interpreter": {
    "hash": "9a78cf8b4ddb887073044078984fdf2c874f7f0aac3b719c0619670e32c9baef"
   }
  }
 },
 "nbformat": 4,
 "nbformat_minor": 2
}
